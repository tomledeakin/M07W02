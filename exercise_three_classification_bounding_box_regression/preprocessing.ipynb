{
 "cells": [
  {
   "cell_type": "code",
   "execution_count": 30,
   "id": "initial_id",
   "metadata": {
    "is_executing": true
   },
   "outputs": [],
   "source": [
    "import config\n",
    "from dataset import MyDataset\n",
    "import os\n",
    "import pandas as pd\n",
    "from sklearn.model_selection import train_test_split\n",
    "from torchvision import transforms\n",
    "from torch.utils.data import DataLoader\n",
    "from model import SimpleYOLO\n",
    "import torch.nn as nn\n",
    "import torch\n",
    "import matplotlib.pyplot as plt\n",
    "import numpy as np\n",
    "from utils import train_model, evaluate_model, calculate_loss"
   ]
  },
  {
   "cell_type": "code",
   "execution_count": 3,
   "id": "8a8994e478e3516c",
   "metadata": {
    "collapsed": false,
    "jupyter": {
     "outputs_hidden": false
    }
   },
   "outputs": [
    {
     "name": "stdout",
     "output_type": "stream",
     "text": [
      "../data/kagglehub/datasets/andrewmvd/dog-and-cat-detection/versions/1\n"
     ]
    }
   ],
   "source": [
    "print(config.data_dir)"
   ]
  },
  {
   "cell_type": "code",
   "execution_count": 4,
   "id": "44e2b9d1-2d76-44cc-9748-cb8b8a83401a",
   "metadata": {},
   "outputs": [
    {
     "name": "stdout",
     "output_type": "stream",
     "text": [
      "cuda\n"
     ]
    }
   ],
   "source": [
    "print(config.device)"
   ]
  },
  {
   "cell_type": "code",
   "execution_count": 5,
   "id": "e2479265-4945-4869-9d43-430ecbdcb107",
   "metadata": {},
   "outputs": [
    {
     "name": "stdout",
     "output_type": "stream",
     "text": [
      "          image_name\n",
      "0     Cats_Test0.png\n",
      "1     Cats_Test1.png\n",
      "2    Cats_Test10.png\n",
      "3   Cats_Test100.png\n",
      "4  Cats_Test1000.png\n"
     ]
    }
   ],
   "source": [
    "# data directory\n",
    "annotations_dir = os.path.join(config.data_dir, 'annotations')\n",
    "images_dir = os.path.join(config.data_dir, 'images')\n",
    "\n",
    "# get list of image files and create a dummy dataframe to split the data\n",
    "image_files = [file for file in os.listdir(images_dir) if os.path.isfile(os.path.join(images_dir, file))]\n",
    "df = pd.DataFrame({'image_name': image_files})\n",
    "\n",
    "print(df.head())"
   ]
  },
  {
   "cell_type": "code",
   "execution_count": 6,
   "id": "a12a3355-0527-4ac2-ac71-88f55789fd1e",
   "metadata": {},
   "outputs": [],
   "source": [
    "train_df, val_df = train_test_split(df, test_size=0.2, random_state=42)"
   ]
  },
  {
   "cell_type": "code",
   "execution_count": 7,
   "id": "e1c8957b-1a85-48fd-9aa2-74704dec33c5",
   "metadata": {},
   "outputs": [
    {
     "name": "stdout",
     "output_type": "stream",
     "text": [
      "(2948, 1)\n",
      "(738, 1)\n"
     ]
    }
   ],
   "source": [
    "print(train_df.shape)\n",
    "print(val_df.shape)"
   ]
  },
  {
   "cell_type": "code",
   "execution_count": 8,
   "id": "b5388763-2e02-4efe-814f-29d046adc178",
   "metadata": {},
   "outputs": [],
   "source": [
    "# transform\n",
    "transform = transforms.Compose([\n",
    "    transforms.Resize((224, 244)),\n",
    "    transforms.ToTensor(),\n",
    "    transforms.Normalize(mean=[0.485, 0.456, 0.406], std=[0.229, 0.224, 0.225])\n",
    "])"
   ]
  },
  {
   "cell_type": "code",
   "execution_count": 15,
   "id": "8c49c414-8a0c-4b09-a52e-2d35ee415ba9",
   "metadata": {},
   "outputs": [],
   "source": [
    "# datasets\n",
    "train_dataset = MyDataset(annotations_dir, images_dir, transform=transform)\n",
    "val_dataset = MyDataset(annotations_dir, images_dir, transform=transform)"
   ]
  },
  {
   "cell_type": "code",
   "execution_count": 16,
   "id": "c57280d6-c2d8-4c17-a7b6-d89a91de6922",
   "metadata": {},
   "outputs": [],
   "source": [
    "train_dataset.image_files = [file for file in train_dataset.image_files if file in train_df['image_name'].values]\n",
    "val_dataset.image_files = [file for file in val_dataset.image_files if file in val_df['image_name'].values]"
   ]
  },
  {
   "cell_type": "code",
   "execution_count": 17,
   "id": "c250e35f-2a8d-4110-a448-1943760bc6ea",
   "metadata": {},
   "outputs": [
    {
     "name": "stdout",
     "output_type": "stream",
     "text": [
      "2947\n",
      "738\n"
     ]
    }
   ],
   "source": [
    "print(train_dataset.__len__())\n",
    "print(val_dataset.__len__())"
   ]
  },
  {
   "cell_type": "code",
   "execution_count": 18,
   "id": "8058c55d-b475-447a-99c1-5acb72562249",
   "metadata": {},
   "outputs": [],
   "source": [
    "train_loader = DataLoader(train_dataset, batch_size=16, shuffle=True, pin_memory=True)\n",
    "val_loader = DataLoader(val_dataset, batch_size=16, shuffle=False, pin_memory=True)"
   ]
  },
  {
   "cell_type": "code",
   "execution_count": 19,
   "id": "43e7336a-3dfc-455d-a14a-92f6f318e84a",
   "metadata": {},
   "outputs": [
    {
     "name": "stdout",
     "output_type": "stream",
     "text": [
      "cuda\n"
     ]
    }
   ],
   "source": [
    "device = config.device\n",
    "print(device)"
   ]
  }
 ],
 "metadata": {
  "kernelspec": {
   "display_name": "Python 3 (ipykernel)",
   "language": "python",
   "name": "python3"
  },
  "language_info": {
   "codemirror_mode": {
    "name": "ipython",
    "version": 3
   },
   "file_extension": ".py",
   "mimetype": "text/x-python",
   "name": "python",
   "nbconvert_exporter": "python",
   "pygments_lexer": "ipython3",
   "version": "3.11.5"
  }
 },
 "nbformat": 4,
 "nbformat_minor": 5
}
