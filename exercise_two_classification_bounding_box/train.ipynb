{
 "cells": [
  {
   "cell_type": "code",
   "execution_count": 140,
   "id": "initial_id",
   "metadata": {},
   "outputs": [],
   "source": [
    "import config\n",
    "from dataset import ImageDataset\n",
    "import os\n",
    "import pandas as pd\n",
    "from sklearn.model_selection import train_test_split\n",
    "from torchvision import transforms\n",
    "from torch.utils.data import DataLoader\n",
    "from model import TwoHeadedModel\n",
    "import torch.nn as nn\n",
    "import torch\n",
    "import matplotlib.pyplot as plt\n",
    "import numpy as np"
   ]
  },
  {
   "cell_type": "code",
   "execution_count": 116,
   "id": "474bcfce-3ecf-47c7-b730-aa5d002999da",
   "metadata": {},
   "outputs": [
    {
     "name": "stdout",
     "output_type": "stream",
     "text": [
      "../data/kagglehub/datasets/andrewmvd/dog-and-cat-detection/versions/1\n"
     ]
    }
   ],
   "source": [
    "print(config.data_dir)"
   ]
  },
  {
   "cell_type": "code",
   "execution_count": 117,
   "id": "6f6943dc-c80c-4ca4-b8ca-c4c7f34f0179",
   "metadata": {},
   "outputs": [
    {
     "name": "stdout",
     "output_type": "stream",
     "text": [
      "cuda\n"
     ]
    }
   ],
   "source": [
    "print(config.device)"
   ]
  },
  {
   "cell_type": "code",
   "execution_count": 118,
   "id": "ac975d87-c174-4ec7-9736-7ee37e576157",
   "metadata": {},
   "outputs": [
    {
     "name": "stdout",
     "output_type": "stream",
     "text": [
      "          image_name\n",
      "0     Cats_Test0.png\n",
      "1     Cats_Test1.png\n",
      "2    Cats_Test10.png\n",
      "3   Cats_Test100.png\n",
      "4  Cats_Test1000.png\n"
     ]
    }
   ],
   "source": [
    "# data directory\n",
    "annotations_dir = os.path.join(config.data_dir, 'annotations')\n",
    "images_dir = os.path.join(config.data_dir, 'images')\n",
    "\n",
    "# get list of image files and create a dummy dataframe to split the data\n",
    "image_files = [file for file in os.listdir(images_dir) if os.path.isfile(os.path.join(images_dir, file))]\n",
    "df = pd.DataFrame({'image_name': image_files})\n",
    "\n",
    "print(df.head())"
   ]
  },
  {
   "cell_type": "code",
   "execution_count": 119,
   "id": "82685971-308e-4c70-9d94-88ac17cd6ebf",
   "metadata": {},
   "outputs": [],
   "source": [
    "train_df, val_df = train_test_split(df, test_size=0.2, random_state=42)"
   ]
  },
  {
   "cell_type": "code",
   "execution_count": 120,
   "id": "50f3741b-937f-4dea-8ac4-41abf232f743",
   "metadata": {},
   "outputs": [
    {
     "name": "stdout",
     "output_type": "stream",
     "text": [
      "(2948, 1)\n",
      "(738, 1)\n"
     ]
    }
   ],
   "source": [
    "print(train_df.shape)\n",
    "print(val_df.shape)"
   ]
  },
  {
   "cell_type": "code",
   "execution_count": 121,
   "id": "b784f6a5-a22b-4c47-84f4-552f49704231",
   "metadata": {},
   "outputs": [],
   "source": [
    "# transform\n",
    "transform = transforms.Compose([\n",
    "    transforms.Resize((224, 244)),\n",
    "    transforms.ToTensor(),\n",
    "    transforms.Normalize(mean=[0.485, 0.456, 0.406], std=[0.229, 0.224, 0.225])\n",
    "])"
   ]
  },
  {
   "cell_type": "code",
   "execution_count": 122,
   "id": "6b7fca9b-e6e6-4882-a48a-be947d1aa73c",
   "metadata": {},
   "outputs": [],
   "source": [
    "# datasets\n",
    "train_dataset = ImageDataset(annotations_dir, images_dir, transform=transform)\n",
    "val_dataset = ImageDataset(annotations_dir, images_dir, transform=transform)"
   ]
  },
  {
   "cell_type": "code",
   "execution_count": 123,
   "id": "f5ab2d02-474d-4e0d-b549-6f4484800da3",
   "metadata": {},
   "outputs": [],
   "source": [
    "train_dataset.image_files = [file for file in train_dataset.image_files if file in train_df['image_name'].values]\n",
    "val_dataset.image_files = [file for file in val_dataset.image_files if file in val_df['image_name'].values]"
   ]
  },
  {
   "cell_type": "code",
   "execution_count": 124,
   "id": "c5c18de2-4f07-4a97-a416-ec70daaefa44",
   "metadata": {},
   "outputs": [
    {
     "name": "stdout",
     "output_type": "stream",
     "text": [
      "2947\n",
      "738\n"
     ]
    }
   ],
   "source": [
    "print(train_dataset.__len__())\n",
    "print(val_dataset.__len__())"
   ]
  },
  {
   "cell_type": "code",
   "execution_count": 125,
   "id": "70dcb9c3-a8ad-4d5d-91bb-aafabb3da743",
   "metadata": {},
   "outputs": [],
   "source": [
    "train_loader = DataLoader(train_dataset, batch_size=32, shuffle=True)\n",
    "val_loader = DataLoader(val_dataset, batch_size=32, shuffle=False)"
   ]
  },
  {
   "cell_type": "code",
   "execution_count": 126,
   "id": "7cb2af28-519d-422f-a6f5-0451223cbdb6",
   "metadata": {},
   "outputs": [],
   "source": [
    "# building the model with 2 heads including classification and bounding box regression\n",
    "# print()\n",
    "# (classifier): Linear(in_features=512, out_features=2, bias=True)\n",
    "# (regressor): Linear(in_features=512, out_features=4, bias=True)"
   ]
  },
  {
   "cell_type": "code",
   "execution_count": 127,
   "id": "9f1b6f53-69f8-4df2-bfc9-dd71077190ac",
   "metadata": {},
   "outputs": [
    {
     "name": "stdout",
     "output_type": "stream",
     "text": [
      "cuda\n"
     ]
    }
   ],
   "source": [
    "device = config.device\n",
    "print(device)"
   ]
  },
  {
   "cell_type": "code",
   "execution_count": 128,
   "id": "b1d21427-7836-4585-851a-c4fa762659b8",
   "metadata": {},
   "outputs": [],
   "source": [
    "# model\n",
    "model = TwoHeadedModel()\n",
    "model = model.to(device)\n",
    "\n",
    "# loss and optimizer\n",
    "criterion_class = nn.CrossEntropyLoss()\n",
    "criterion_bbox = nn.MSELoss()\n",
    "optimizer = torch.optim.Adam(model.parameters(), lr=0.001)"
   ]
  },
  {
   "cell_type": "code",
   "execution_count": 131,
   "id": "ca0d76f6-f4f3-4a4a-9e97-0a4e937eeeff",
   "metadata": {},
   "outputs": [
    {
     "name": "stdout",
     "output_type": "stream",
     "text": [
      "Epoch 1/10, Validation Accuracy: 88.75%, Avg. Bbox Loss: 0.0000\n",
      "Epoch 2/10, Validation Accuracy: 89.84%, Avg. Bbox Loss: 0.0001\n",
      "Epoch 3/10, Validation Accuracy: 70.60%, Avg. Bbox Loss: 0.0000\n",
      "Epoch 4/10, Validation Accuracy: 91.60%, Avg. Bbox Loss: 0.0000\n",
      "Epoch 5/10, Validation Accuracy: 93.77%, Avg. Bbox Loss: 0.0000\n",
      "Epoch 6/10, Validation Accuracy: 94.72%, Avg. Bbox Loss: 0.0000\n",
      "Epoch 7/10, Validation Accuracy: 91.19%, Avg. Bbox Loss: 0.0000\n",
      "Epoch 8/10, Validation Accuracy: 90.65%, Avg. Bbox Loss: 0.0000\n",
      "Epoch 9/10, Validation Accuracy: 96.48%, Avg. Bbox Loss: 0.0000\n",
      "Epoch 10/10, Validation Accuracy: 95.39%, Avg. Bbox Loss: 0.0000\n"
     ]
    }
   ],
   "source": [
    "# training loop\n",
    "num_epochs = 10\n",
    "for epoch in range(num_epochs):\n",
    "    model.train()\n",
    "    for batch_idx, (data, targets, bboxes) in enumerate(train_loader):\n",
    "        data = data.to(device)\n",
    "        targets = targets.to(device)\n",
    "        bboxes = bboxes.to(device)\n",
    "\n",
    "        scores, pred_bboxes = model(data)\n",
    "        loss_class = criterion_class(scores, targets)\n",
    "        loss_bbox = criterion_bbox(pred_bboxes, bboxes)\n",
    "        # combine losses\n",
    "        loss = loss_class + loss_bbox\n",
    "        \n",
    "        optimizer.zero_grad()\n",
    "        loss.backward()\n",
    "        optimizer.step()\n",
    "\n",
    "    # Validation\n",
    "    model.eval()\n",
    "    with torch.no_grad():\n",
    "        correct = 0\n",
    "        total = 0\n",
    "        total_loss_bbox = 0\n",
    "        total_samples = 0\n",
    "        for data, targets, bboxes in val_loader:\n",
    "            data = data.to(device)\n",
    "            targets = targets.to(device)\n",
    "            bboxes = bboxes.to(device)\n",
    "\n",
    "            scores, pred_bboxes = model(data)\n",
    "            _, predictions = scores.max(1)\n",
    "            correct += (predictions == targets).sum()\n",
    "            total += targets.size(0)\n",
    "            validation_acc = correct / total\n",
    "            total_loss_bbox = criterion_bbox(pred_bboxes, bboxes).item() * data.size(0)\n",
    "            total_samples += data.size(0)\n",
    "\n",
    "        avg_loss_bbox = total_loss_bbox / total_samples\n",
    "        print(f\"Epoch {epoch + 1}/{num_epochs}, Validation Accuracy: {float(correct) / float(total) * 100:.2f}%, \"\n",
    "      f\"Avg. Bbox Loss: {avg_loss_bbox:.4f}\")"
   ]
  }
 ],
 "metadata": {
  "kernelspec": {
   "display_name": "Python 3 (ipykernel)",
   "language": "python",
   "name": "python3"
  },
  "language_info": {
   "codemirror_mode": {
    "name": "ipython",
    "version": 3
   },
   "file_extension": ".py",
   "mimetype": "text/x-python",
   "name": "python",
   "nbconvert_exporter": "python",
   "pygments_lexer": "ipython3",
   "version": "3.11.5"
  }
 },
 "nbformat": 4,
 "nbformat_minor": 5
}
